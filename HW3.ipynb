{
 "cells": [
  {
   "cell_type": "code",
   "execution_count": null,
   "id": "a79907c1",
   "metadata": {},
   "outputs": [
    {
     "name": "stderr",
     "output_type": "stream",
     "text": [
      "Building prefix dict from the default dictionary ...\n",
      "Loading model from cache D:\\temp\\jieba.cache\n",
      "Loading model cost 0.667 seconds.\n",
      "Prefix dict has been built successfully.\n"
     ]
    }
   ],
   "source": [
    "import pandas as pd\n",
    "import numpy as np\n",
    "import matplotlib.pyplot as plt\n",
    "import seaborn as sns\n",
    "import jieba\n",
    "from sklearn.feature_extraction.text import TfidfTransformer \n",
    "from sklearn.feature_extraction.text import TfidfVectorizer\n",
    "from sklearn.feature_extraction.text import CountVectorizer\n",
    "import math\n",
    "from sklearn.preprocessing import normalize\n",
    "from sklearn.neighbors import KNeighborsClassifier\n",
    "from sklearn.metrics import classification_report,confusion_matrix\n",
    "\n",
    "def cut(sentence):\n",
    "    sen=[]\n",
    "    sen2=[]\n",
    "    t=0\n",
    "    for i in sentence:\n",
    "        sen.append([])\n",
    "        sen2.append([])\n",
    "        try:\n",
    "            words = jieba.lcut(i, cut_all=False)\n",
    "        except:\n",
    "            continue\n",
    "        for j in words:\n",
    "            sen[t].append(j)\n",
    "            sen2[t].append(\" \".join(sen[0]))\n",
    "        t=t+1\n",
    "    sen2=sum(sen2, [])\n",
    "    return sen2,t\n",
    "\n",
    "df = pd.read_csv('HW2.csv')\n",
    "mydata = list(df.iloc[500:,2].astype(str))\n",
    "\n",
    "\n",
    "test_label=list(df.iloc[:500,1].astype(str))\n",
    "test_data=list(df.iloc[:500,2].astype(str))\n",
    "train_label=list(df.iloc[500:,1].astype(str))\n",
    "train,t=cut(mydata)\n",
    "test,t1=cut(test_data)\n",
    "\n",
    "\n",
    "vectorizer1 = TfidfVectorizer(sublinear_tf=False, stop_words=None, token_pattern=\"(?u)\\\\b\\\\w+\\\\b\", smooth_idf=True, norm='l2')\n",
    "tfidf = vectorizer1.fit_transform(train)\n",
    "train_tfidf = pd.DataFrame(tfidf.toarray(),columns=vectorizer.get_feature_names())\n",
    "vectorizer2 = TfidfVectorizer(sublinear_tf=False, stop_words=None, token_pattern=\"(?u)\\\\b\\\\w+\\\\b\", smooth_idf=True, norm='l2')\n",
    "tfidf = vectorizer2.fit_transform(test)\n",
    "test_tfidf = pd.DataFrame(tfidf.toarray(),columns=vectorizer.get_feature_names())\n",
    "knn = KNeighborsClassifier()\n",
    "knn.fit(train_tfidf,train_label)\n",
    "result=knn.predict(test_tfidf)\n",
    "x=0\n",
    "for i in range(500):\n",
    "    if result[i]==test_label[i]:\n",
    "        x=x+1\n",
    "print('correction : ',x/500)\n",
    "#pred = knn.predict(X_test)\n",
    "\n"
   ]
  },
  {
   "cell_type": "code",
   "execution_count": null,
   "id": "4351d907",
   "metadata": {},
   "outputs": [],
   "source": []
  }
 ],
 "metadata": {
  "kernelspec": {
   "display_name": "Python 3",
   "language": "python",
   "name": "python3"
  },
  "language_info": {
   "codemirror_mode": {
    "name": "ipython",
    "version": 3
   },
   "file_extension": ".py",
   "mimetype": "text/x-python",
   "name": "python",
   "nbconvert_exporter": "python",
   "pygments_lexer": "ipython3",
   "version": "3.8.8"
  }
 },
 "nbformat": 4,
 "nbformat_minor": 5
}
