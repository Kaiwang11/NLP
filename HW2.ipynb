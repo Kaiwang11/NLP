{
 "cells": [
  {
   "cell_type": "code",
   "execution_count": null,
   "id": "099bacd2",
   "metadata": {},
   "outputs": [],
   "source": [
    "import requests\n",
    "import bs4\n",
    "import csv\n",
    "\n",
    "with open('HW2.csv', 'w', newline='',encoding=\"utf-8-sig\") as csvfile:\n",
    "  # 建立 CSV 檔寫入器\n",
    "  writer = csv.writer(csvfile)\n",
    "  # 寫入一列資料\n",
    "  writer.writerow(['名稱', '分類',' 劇情介紹' ,'上映日期'])\n",
    "  for i in range(1,8500):\n",
    "    r = requests.get(\"https://movies.yahoo.com.tw/movieinfo_main.html/id=\"+str(i)) \n",
    "    soup = bs4.BeautifulSoup(r.text,\"html.parser\")\n",
    "    try:\n",
    "       level = soup.find(\"div\",class_=\"level_name\").find(\"a\").text.replace(\" \",\"\").replace(\"\\n\",\"\")# test \"suop.find\" exist\n",
    "    except:\n",
    "        continue\n",
    "    level = soup.find(\"div\",class_=\"level_name\").find(\"a\").text.replace(\" \",\"\").replace(\"\\n\",\"\")\n",
    "    name=soup.find(\"div\",class_=\"movie_intro_info_r\").find(\"h1\").text\n",
    "    story=soup.find(\"div\",class_=\"gray_infobox_inner\").find(\"span\").text\n",
    "    date=soup.find(\"div\",class_=\"table\").span.text.replace(\"上映日期：\",\"\")\n",
    "    writer.writerow([name,level,story,date])\n"
   ]
  }
 ],
 "metadata": {
  "kernelspec": {
   "display_name": "Python 3",
   "language": "python",
   "name": "python3"
  },
  "language_info": {
   "codemirror_mode": {
    "name": "ipython",
    "version": 3
   },
   "file_extension": ".py",
   "mimetype": "text/x-python",
   "name": "python",
   "nbconvert_exporter": "python",
   "pygments_lexer": "ipython3",
   "version": "3.8.8"
  }
 },
 "nbformat": 4,
 "nbformat_minor": 5
}
