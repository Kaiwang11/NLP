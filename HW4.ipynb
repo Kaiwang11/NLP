{
 "cells": [
  {
   "cell_type": "code",
   "execution_count": 40,
   "id": "b18d215a",
   "metadata": {},
   "outputs": [
    {
     "name": "stdout",
     "output_type": "stream",
     "text": [
      "start cutAA/wiki_00\n",
      "start cutAA/wiki_01\n",
      "start cutAA/wiki_02\n",
      "start cutAA/wiki_03\n",
      "start cutAB/wiki_00\n",
      "start cutAB/wiki_01\n",
      "start cutAB/wiki_02\n",
      "start cutAB/wiki_03\n",
      "start cutAC/wiki_00\n",
      "start cutAC/wiki_01\n",
      "start cutAC/wiki_02\n",
      "start cutAC/wiki_03\n",
      "start cutAD/wiki_00\n",
      "start cutAD/wiki_01\n",
      "start cutAD/wiki_02\n",
      "start cutAD/wiki_03\n",
      "start cutAE/wiki_00\n",
      "start cutAE/wiki_01\n",
      "start cutAE/wiki_02\n",
      "start cutAE/wiki_03\n",
      "start cutAF/wiki_00\n",
      "start cutAF/wiki_01\n",
      "start cutAF/wiki_02\n",
      "start cutAF/wiki_03\n",
      "start cutAG/wiki_00\n",
      "start cutAG/wiki_01\n",
      "start cutAG/wiki_02\n",
      "start cutAG/wiki_03\n",
      "start cutAH/wiki_00\n",
      "start cutAH/wiki_01\n",
      "start cutAH/wiki_02\n",
      "start cutAH/wiki_03\n",
      "start cutAI/wiki_00\n",
      "start cutAI/wiki_01\n",
      "start cutAI/wiki_02\n",
      "start cutAI/wiki_03\n",
      "start cutAJ/wiki_00\n",
      "start cutAJ/wiki_01\n",
      "start cutAJ/wiki_02\n",
      "start cutAJ/wiki_03\n",
      "start cutAK/wiki_00\n",
      "start cutAK/wiki_01\n",
      "start cutAK/wiki_02\n",
      "start cutAK/wiki_03\n",
      "start cutAL/wiki_00\n",
      "start cutAL/wiki_01\n",
      "start cutAL/wiki_02\n",
      "start cutAL/wiki_03\n",
      "start cutAM/wiki_00\n",
      "start cutAM/wiki_01\n",
      "start cutAM/wiki_02\n",
      "start cutAM/wiki_03\n",
      "start train\n"
     ]
    },
    {
     "ename": "TypeError",
     "evalue": "__init__() got an unexpected keyword argument 'size'",
     "output_type": "error",
     "traceback": [
      "\u001b[1;31m---------------------------------------------------------------------------\u001b[0m",
      "\u001b[1;31mTypeError\u001b[0m                                 Traceback (most recent call last)",
      "\u001b[1;32m<ipython-input-40-fe682878f66a>\u001b[0m in \u001b[0;36m<module>\u001b[1;34m\u001b[0m\n\u001b[0;32m     20\u001b[0m \u001b[0msentences\u001b[0m \u001b[1;33m=\u001b[0m \u001b[0mgensim\u001b[0m\u001b[1;33m.\u001b[0m\u001b[0mmodels\u001b[0m\u001b[1;33m.\u001b[0m\u001b[0mword2vec\u001b[0m\u001b[1;33m.\u001b[0m\u001b[0mLineSentence\u001b[0m\u001b[1;33m(\u001b[0m\u001b[1;34m\"output.txt\"\u001b[0m\u001b[1;33m)\u001b[0m\u001b[1;33m\u001b[0m\u001b[1;33m\u001b[0m\u001b[0m\n\u001b[0;32m     21\u001b[0m \u001b[0mprint\u001b[0m\u001b[1;33m(\u001b[0m\u001b[1;34m\"start train\"\u001b[0m\u001b[1;33m)\u001b[0m\u001b[1;33m\u001b[0m\u001b[1;33m\u001b[0m\u001b[0m\n\u001b[1;32m---> 22\u001b[1;33m \u001b[0mmodel\u001b[0m \u001b[1;33m=\u001b[0m \u001b[0mgensim\u001b[0m\u001b[1;33m.\u001b[0m\u001b[0mmodels\u001b[0m\u001b[1;33m.\u001b[0m\u001b[0mWord2Vec\u001b[0m\u001b[1;33m(\u001b[0m\u001b[0msentences\u001b[0m\u001b[1;33m,\u001b[0m \u001b[0msize\u001b[0m\u001b[1;33m=\u001b[0m\u001b[1;36m300\u001b[0m\u001b[1;33m,\u001b[0m \u001b[0mmin_count\u001b[0m\u001b[1;33m=\u001b[0m\u001b[1;36m10\u001b[0m\u001b[1;33m,\u001b[0m \u001b[0msg\u001b[0m\u001b[1;33m=\u001b[0m\u001b[1;36m0\u001b[0m\u001b[1;33m)\u001b[0m\u001b[1;33m\u001b[0m\u001b[1;33m\u001b[0m\u001b[0m\n\u001b[0m",
      "\u001b[1;31mTypeError\u001b[0m: __init__() got an unexpected keyword argument 'size'"
     ]
    }
   ],
   "source": [
    "import os\n",
    "import sys\n",
    "import jieba\n",
    "import gensim\n",
    "from opencc import OpenCC\n",
    "cc = OpenCC('s2t')\n",
    "\n",
    "with open(\"output.txt\",'w',encoding=\"utf-8\") as output:\n",
    "    folder=os.listdir(\"wiki_zh\")\n",
    "    for i in folder:\n",
    "        folder_in=os.listdir(\"wiki_zh/\"+i)\n",
    "        for j in folder_in:\n",
    "            with open(\"wiki_zh/\"+i+\"/\"+j,encoding=\"utf-8\") as file:\n",
    "                sentence = file.read()\n",
    "                print(\"start cut\"+i+\"/\"+j)\n",
    "                words=jieba.cut(sentence)\n",
    "                for w in words:\n",
    "                    data = cc.convert(w)\n",
    "                    output.write(data+\" \")"
   ]
  },
  {
   "cell_type": "code",
   "execution_count": 45,
   "id": "0e4535e4",
   "metadata": {},
   "outputs": [
    {
     "name": "stdout",
     "output_type": "stream",
     "text": [
      "start train\n"
     ]
    }
   ],
   "source": [
    "sentences = gensim.models.word2vec.LineSentence(\"output.txt\")\n",
    "print(\"start train\")\n",
    "model = gensim.models.Word2Vec(sentences,min_count=10, sg=0)\n",
    "model.save(\"out.model\")"
   ]
  },
  {
   "cell_type": "code",
   "execution_count": 53,
   "id": "8dec65ad",
   "metadata": {},
   "outputs": [
    {
     "name": "stdout",
     "output_type": "stream",
     "text": [
      "女人 0.9121838212013245\n",
      "小孩 0.843528687953949\n",
      "奇怪 0.8292105197906494\n",
      "美好 0.8278630375862122\n",
      "別人 0.8219431638717651\n",
      "怪物 0.8063201904296875\n",
      "爸爸 0.7931411266326904\n",
      "溫柔 0.7927691340446472\n",
      "女孩 0.7895570397377014\n",
      "傢伙 0.7869570851325989\n"
     ]
    }
   ],
   "source": [
    "from gensim.models import word2vec\n",
    "\n",
    "model = word2vec.Word2Vec.load('out.model')\n",
    "simi = model.wv.most_similar(u\"男人\")\n",
    "for s in simi:\n",
    "    print (s[0], s[1])"
   ]
  },
  {
   "cell_type": "code",
   "execution_count": null,
   "id": "5f54b01e",
   "metadata": {},
   "outputs": [],
   "source": []
  }
 ],
 "metadata": {
  "kernelspec": {
   "display_name": "Python 3",
   "language": "python",
   "name": "python3"
  },
  "language_info": {
   "codemirror_mode": {
    "name": "ipython",
    "version": 3
   },
   "file_extension": ".py",
   "mimetype": "text/x-python",
   "name": "python",
   "nbconvert_exporter": "python",
   "pygments_lexer": "ipython3",
   "version": "3.8.8"
  }
 },
 "nbformat": 4,
 "nbformat_minor": 5
}
